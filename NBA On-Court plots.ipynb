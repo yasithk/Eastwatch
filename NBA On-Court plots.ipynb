{
 "cells": [
  {
   "cell_type": "code",
   "execution_count": 1,
   "metadata": {},
   "outputs": [],
   "source": [
    "%matplotlib inline\n",
    "import requests\n",
    "import matplotlib.pyplot as plt\n",
    "import pandas as pd\n",
    "import seaborn as sns"
   ]
  },
  {
   "cell_type": "code",
   "execution_count": 2,
   "metadata": {},
   "outputs": [],
   "source": [
    "shot_chart_url = 'http://stats.nba.com/stats/shotchartdetail?CFID=33&CFPAR;'\\\n",
    "                'AMS=2014-15&ContextFilter;=&ContextMeasure;=FGA&DateFrom;=&D;'\\\n",
    "                'ateTo=&GameID;=&GameSegment;=&LastNGames;=0&LeagueID;=00&Loca;'\\\n",
    "                'tion=&MeasureType;=Base&Month;=0&OpponentTeamID;=0&Outcome;=&'\\\n",
    "                'PaceAdjust=N&PerMode;=PerGame&Period;=0&PlayerID;=201935&Plu;'\\\n",
    "                'sMinus=N&Position;=&Rank;=N&RookieYear;=&Season;=2014-15&Seas;'\\\n",
    "                'onSegment=&SeasonType;=Regular+Season&TeamID;=0&VsConferenc;'\\\n",
    "                'e=&VsDivision;=&mode;=Advanced&showDetails;=0&showShots;=1&sh;'\\\n",
    "                'owZones=0'"
   ]
  },
  {
   "cell_type": "code",
   "execution_count": null,
   "metadata": {},
   "outputs": [],
   "source": [
    "# Get the webpage containing the data\n",
    "response = requests.get(shot_chart_url)\n",
    "# Grab the headers to be used as column headers for our DataFrame\n",
    "headers = response.json()['resultSets'][0]['headers']\n",
    "# Grab the shot chart data\n",
    "shots = response.json()['resultSets'][0]['rowSet']"
   ]
  },
  {
   "cell_type": "code",
   "execution_count": null,
   "metadata": {},
   "outputs": [],
   "source": [
    "shot_df = pd.DataFrame(shots, columns=headers)\n",
    "# View the head of the DataFrame and all its columns\n",
    "from IPython.display import display\n",
    "with pd.option_context('display.max_columns', None):\n",
    "    display(shot_df.head())"
   ]
  },
  {
   "cell_type": "code",
   "execution_count": null,
   "metadata": {},
   "outputs": [],
   "source": [
    "shot_df"
   ]
  },
  {
   "cell_type": "code",
   "execution_count": null,
   "metadata": {},
   "outputs": [],
   "source": []
  }
 ],
 "metadata": {
  "kernelspec": {
   "display_name": "Python 3",
   "language": "python",
   "name": "python3"
  },
  "language_info": {
   "codemirror_mode": {
    "name": "ipython",
    "version": 3
   },
   "file_extension": ".py",
   "mimetype": "text/x-python",
   "name": "python",
   "nbconvert_exporter": "python",
   "pygments_lexer": "ipython3",
   "version": "3.6.4"
  }
 },
 "nbformat": 4,
 "nbformat_minor": 2
}
